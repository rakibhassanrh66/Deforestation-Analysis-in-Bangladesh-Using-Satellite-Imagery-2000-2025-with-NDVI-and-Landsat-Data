{
 "cells": [
  {
   "cell_type": "code",
   "execution_count": 1,
   "id": "1902f0ab-29ab-4fc3-a62e-3e76f4b2d048",
   "metadata": {},
   "outputs": [
    {
     "name": "stdout",
     "output_type": "stream",
     "text": [
      "Processing 2006-2010...\n",
      "The filename must end with .tif\n",
      "Processing 2011-2015...\n",
      "The filename must end with .tif\n",
      "Processing 2016-2020...\n",
      "The filename must end with .tif\n",
      "Processing 2021-2023...\n",
      "The filename must end with .tif\n"
     ]
    },
    {
     "data": {
      "application/vnd.jupyter.widget-view+json": {
       "model_id": "201623ea8ac44ba285131121b2c1dff2",
       "version_major": 2,
       "version_minor": 0
      },
      "text/plain": [
       "Map(center=[23.685, 90.3563], controls=(WidgetControl(options=['position', 'transparent_bg'], position='toprig…"
      ]
     },
     "execution_count": 1,
     "metadata": {},
     "output_type": "execute_result"
    }
   ],
   "source": [
    "# Initialize Earth Engine\n",
    "import ee\n",
    "import geemap\n",
    "ee.Initialize()\n",
    "\n",
    "# Create map\n",
    "Map = geemap.Map(center=[23.6850, 90.3563], zoom=7)\n",
    "bangladesh = ee.FeatureCollection(\"FAO/GAUL/2015/level0\") \\\n",
    "              .filter(ee.Filter.eq('ADM0_NAME', 'Bangladesh'))\n",
    "Map.addLayer(bangladesh, {}, 'Bangladesh')\n",
    "\n",
    "# Improved Landsat data function with proper cloud masking\n",
    "def get_landsat_data(start_year, end_year):\n",
    "    # Landsat 5 (1984-2011)\n",
    "    if end_year <= 2011:\n",
    "        collection = ee.ImageCollection(\"LANDSAT/LT05/C02/T1_L2\")\n",
    "        ndvi_bands = ['SR_B4', 'SR_B3']\n",
    "        rgb_bands = ['SR_B3', 'SR_B2', 'SR_B1']\n",
    "    # Landsat 7 (1999-2022)\n",
    "    elif start_year <= 2013:\n",
    "        collection = ee.ImageCollection(\"LANDSAT/LE07/C02/T1_L2\")\n",
    "        ndvi_bands = ['SR_B4', 'SR_B3']\n",
    "        rgb_bands = ['SR_B3', 'SR_B2', 'SR_B1']\n",
    "    # Landsat 8/9 (2013-present)\n",
    "    else:\n",
    "        collection = ee.ImageCollection(\"LANDSAT/LC08/C02/T1_L2\")\n",
    "        ndvi_bands = ['SR_B5', 'SR_B4']\n",
    "        rgb_bands = ['SR_B4', 'SR_B3', 'SR_B2']\n",
    "    \n",
    "    # Filter by date and location\n",
    "    collection = collection.filterBounds(bangladesh) \\\n",
    "                         .filterDate(f'{start_year}-01-01', f'{end_year}-12-31')\n",
    "    \n",
    "    # Function to apply scaling and cloud masking\n",
    "    def process_image(img):\n",
    "        # Apply scaling to optical bands only\n",
    "        optical = img.select('SR_B.').multiply(0.0000275).add(-0.2)\n",
    "        # Get QA_PIXEL band (unscaled)\n",
    "        qa = img.select('QA_PIXEL')\n",
    "        # Create cloud mask (bit 3 is cloud)\n",
    "        cloud_mask = qa.bitwiseAnd(1 << 3).eq(0)\n",
    "        # Apply mask and return with original bands\n",
    "        return optical.updateMask(cloud_mask).copyProperties(img, ['system:time_start'])\n",
    "    \n",
    "    # Process and reduce collection\n",
    "    return collection.map(process_image).median(), ndvi_bands, rgb_bands\n",
    "\n",
    "# Process all time periods\n",
    "time_periods = [\n",
    "    (2006, 2010),\n",
    "    (2011, 2015), \n",
    "    (2016, 2020),\n",
    "    (2021, 2023)  # Note: 2025 data may not be complete\n",
    "]\n",
    "\n",
    "# Visualization parameters\n",
    "ndvi_params = {'min': -0.2, 'max': 0.8, 'palette': ['red', 'yellow', 'green']}\n",
    "rgb_params = {'min': 0, 'max': 0.3}\n",
    "\n",
    "for start_year, end_year in time_periods:\n",
    "    label = f\"{start_year}-{end_year}\"\n",
    "    print(f\"Processing {label}...\")\n",
    "    \n",
    "    try:\n",
    "        # Get data\n",
    "        image, ndvi_bands, rgb_bands = get_landsat_data(start_year, end_year)\n",
    "        \n",
    "        # Calculate NDVI\n",
    "        ndvi = image.normalizedDifference(ndvi_bands).rename('NDVI')\n",
    "        image = image.addBands(ndvi)\n",
    "        \n",
    "        # Add to map\n",
    "        Map.addLayer(\n",
    "            image.clip(bangladesh).select(rgb_bands),\n",
    "            rgb_params,\n",
    "            f'Landsat {label} (RGB)'\n",
    "        )\n",
    "        Map.addLayer(\n",
    "            image.select('NDVI').clip(bangladesh),\n",
    "            ndvi_params,\n",
    "            f'NDVI {label}'\n",
    "        )\n",
    "        \n",
    "        # Export\n",
    "        geemap.ee_export_image(\n",
    "            image.select('NDVI').clip(bangladesh),\n",
    "            filename=f'ndvi_{label}.png',\n",
    "            scale=500\n",
    "        )\n",
    "    except Exception as e:\n",
    "        print(f\"Error processing {label}: {str(e)}\")\n",
    "\n",
    "# Add layer control and display\n",
    "Map.addLayerControl()\n",
    "Map"
   ]
  }
 ],
 "metadata": {
  "kernelspec": {
   "display_name": "Python 3 (ipykernel)",
   "language": "python",
   "name": "python3"
  },
  "language_info": {
   "codemirror_mode": {
    "name": "ipython",
    "version": 3
   },
   "file_extension": ".py",
   "mimetype": "text/x-python",
   "name": "python",
   "nbconvert_exporter": "python",
   "pygments_lexer": "ipython3",
   "version": "3.13.7"
  }
 },
 "nbformat": 4,
 "nbformat_minor": 5
}
