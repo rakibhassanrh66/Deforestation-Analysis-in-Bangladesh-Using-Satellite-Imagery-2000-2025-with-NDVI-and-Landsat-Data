{
 "cells": [
  {
   "cell_type": "code",
   "execution_count": 1,
   "id": "5920bae8-afb7-4d02-8ace-2d41e7331712",
   "metadata": {},
   "outputs": [
    {
     "data": {
      "application/vnd.jupyter.widget-view+json": {
       "model_id": "48af80c5845949f5992899303edd9ab6",
       "version_major": 2,
       "version_minor": 0
      },
      "text/plain": [
       "Map(center=[23.8270519912324, 90.28837386710796], controls=(WidgetControl(options=['position', 'transparent_bg…"
      ]
     },
     "execution_count": 1,
     "metadata": {},
     "output_type": "execute_result"
    }
   ],
   "source": [
    "# Step 1: Import libraries and initialize\n",
    "import ee\n",
    "import geemap\n",
    "ee.Authenticate()  # Run this only once\n",
    "ee.Initialize()\n",
    "\n",
    "# Step 2: Create map and add Bangladesh\n",
    "Map = geemap.Map()\n",
    "bangladesh = ee.FeatureCollection(\"FAO/GAUL/2015/level0\") \\\n",
    "              .filter(ee.Filter.eq('ADM0_NAME', 'Bangladesh'))\n",
    "Map.addLayer(bangladesh, {}, 'Bangladesh')\n",
    "Map.centerObject(bangladesh, 7)\n",
    "\n",
    "# Step 3: Updated Landsat collection function\n",
    "def get_landsat_data(start_year, end_year):\n",
    "    # Landsat 5 (Collection 2)\n",
    "    if end_year <= 2011:\n",
    "        collection = ee.ImageCollection(\"LANDSAT/LT05/C02/T1_L2\")\n",
    "        # Band mapping for Collection 2\n",
    "        blue, green, red, nir = 'SR_B1', 'SR_B2', 'SR_B3', 'SR_B4'\n",
    "        \n",
    "    # Landsat 7 (Collection 2)\n",
    "    elif start_year <= 2022:\n",
    "        collection = ee.ImageCollection(\"LANDSAT/LE07/C02/T1_L2\")\n",
    "        blue, green, red, nir = 'SR_B1', 'SR_B2', 'SR_B3', 'SR_B4'\n",
    "        \n",
    "    # Landsat 8/9 (Collection 2)\n",
    "    else:\n",
    "        collection = ee.ImageCollection(\"LANDSAT/LC08/C02/T1_L2\")\n",
    "        blue, green, red, nir = 'SR_B2', 'SR_B3', 'SR_B4', 'SR_B5'\n",
    "    \n",
    "    # Filter by date and location\n",
    "    collection = collection.filterBounds(bangladesh) \\\n",
    "                          .filterDate(f'{start_year}-01-01', f'{end_year}-12-31')\n",
    "    \n",
    "    # Cloud masking function for Collection 2\n",
    "    def mask_clouds(image):\n",
    "        qa = image.select('QA_PIXEL')\n",
    "        cloud_mask = qa.bitwiseAnd(1 << 3).eq(0)  # Cloud bit\n",
    "        return image.updateMask(cloud_mask)\n",
    "    \n",
    "    # Apply scaling factors for Collection 2\n",
    "    def apply_scale_factors(image):\n",
    "        optical_bands = image.select('SR_B.').multiply(0.0000275).add(-0.2)\n",
    "        return image.addBands(optical_bands, None, True)\n",
    "    \n",
    "    return collection.map(mask_clouds).map(apply_scale_factors).median()\n",
    "\n",
    "# Step 4: Get and visualize 2000-2005 data\n",
    "ls_2000_2005 = get_landsat_data(2000, 2005)\n",
    "\n",
    "# Add to map (True Color)\n",
    "Map.addLayer(\n",
    "    ls_2000_2005.clip(bangladesh),\n",
    "    {'bands': ['SR_B3', 'SR_B2', 'SR_B1'], 'min': 0, 'max': 0.3},\n",
    "    'Landsat 2000-2005 (True Color)'\n",
    ")\n",
    "\n",
    "# Step 5: Calculate NDVI\n",
    "def add_ndvi(image):\n",
    "    ndvi = image.normalizedDifference(['SR_B4', 'SR_B3']).rename('NDVI')\n",
    "    return image.addBands(ndvi)\n",
    "\n",
    "ls_2000_2005 = add_ndvi(ls_2000_2005)\n",
    "\n",
    "# Add NDVI layer\n",
    "ndvi_params = {'min': -1, 'max': 1, 'palette': ['red', 'yellow', 'green']}\n",
    "Map.addLayer(ls_2000_2005.select('NDVI').clip(bangladesh), ndvi_params, 'NDVI 2000-2005')\n",
    "\n",
    "# Display the map   \n",
    "Map"
   ]
  }
 ],
 "metadata": {
  "kernelspec": {
   "display_name": "Python 3 (ipykernel)",
   "language": "python",
   "name": "python3"
  },
  "language_info": {
   "codemirror_mode": {
    "name": "ipython",
    "version": 3
   },
   "file_extension": ".py",
   "mimetype": "text/x-python",
   "name": "python",
   "nbconvert_exporter": "python",
   "pygments_lexer": "ipython3",
   "version": "3.13.5"
  }
 },
 "nbformat": 4,
 "nbformat_minor": 5
}
